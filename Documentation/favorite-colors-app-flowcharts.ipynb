{
 "cells": [
  {
   "cell_type": "code",
   "execution_count": null,
   "metadata": {
    "dotnet_interactive": {
     "language": "mermaid"
    },
    "polyglot_notebook": {
     "kernelName": "mermaid"
    }
   },
   "outputs": [],
   "source": [
    "---\n",
    "title: Generic flow\n",
    "---\n",
    "flowchart TD\n",
    "    id100([Show heading]) --> id200([Show prompt text]) --> id300([Get input char or string]) --> id400([Validate input]) -- is valid --> id500([...some action...])\n",
    "    id400 -- is not valid --> id600([Show validation error]) --> id200\n",
    "    id500 -- success --> id700([Show results or confirmation])\n",
    "    id500 -- failure --> id800([Show warning])\n"
   ]
  },
  {
   "cell_type": "code",
   "execution_count": null,
   "metadata": {
    "dotnet_interactive": {
     "language": "mermaid"
    },
    "polyglot_notebook": {
     "kernelName": "mermaid"
    }
   },
   "outputs": [],
   "source": [
    "---\n",
    "title: Show intro\n",
    "---\n",
    "flowchart TD\n",
    "    id100([Show heading]) --> id200([Done])\n"
   ]
  },
  {
   "cell_type": "code",
   "execution_count": null,
   "metadata": {
    "dotnet_interactive": {
     "language": "mermaid"
    },
    "polyglot_notebook": {
     "kernelName": "mermaid"
    }
   },
   "outputs": [],
   "source": [
    "---\n",
    "title: Show menu\n",
    "---\n",
    "flowchart TD\n",
    "    id100([Show menu heading]) --> id200([Prompt for menu selection]) --> id300([Get input char]) --> id400([Validate input char]) -- is valid --> id500([Go to menu selection])\n",
    "    id400 -- is not valid --> id600([Show validation error]) --> id200\n",
    "    id500 --> id700([Add friend])\n",
    "    id500 --> id800([See all friends])\n",
    "    id500 --> id900([Search for friends])\n",
    "    id500 --> id1200([Exit])"
   ]
  },
  {
   "cell_type": "code",
   "execution_count": null,
   "metadata": {
    "dotnet_interactive": {
     "language": "mermaid"
    },
    "polyglot_notebook": {
     "kernelName": "mermaid"
    }
   },
   "outputs": [],
   "source": [
    "---\n",
    "title: Add friend\n",
    "---\n",
    "flowchart TD\n",
    "    id100([Show add friend heading]) --> id200([Prompt for friend name, or esc to return to menu]) --> id300([Get input string]) -- is not esc --> id310([Check input string for leading or trailing whitespace]) -- no whitespace --> id400([Validate input string])\n",
    "    id300 -- is esc --> id500([Go to menu])\n",
    "    id310 -- has whitespace --> id320([Inform user that whitespace will be trimmed]) --> id340([Trim leading and trailing whitespace from input string]) --> id400\n",
    "    id400 -- is valid --> id600([Prompt for friend fav color, or esc to return to menu]) --> id700([Get input string]) -- is not esc --> id710([Trim leading and trailing whitespace from input string]) --> id800([Validate input string])\n",
    "    id700 -- is esc --> id500\n",
    "    id400 -- is not valid --> id900([Show validation error]) --> id200\n",
    "    id800 -- is valid --> id1000([Call data to get new friend id]) --> id1100([Create new friend object]) --> id1200([Call data to add friend]) -- success --> id1300([Show friend added confirmation]) --> id500\n",
    "    id800 -- is not valid --> id1400([Show validation error]) --> id600\n",
    "    id1200 -- failure --> id1500([Show add failure error]) --> id500"
   ]
  },
  {
   "cell_type": "code",
   "execution_count": null,
   "metadata": {
    "dotnet_interactive": {
     "language": "mermaid"
    },
    "polyglot_notebook": {
     "kernelName": "mermaid"
    }
   },
   "outputs": [],
   "source": [
    "---\n",
    "title: See all friends\n",
    "---\n",
    "flowchart TD\n",
    "    id100([Show heading]) --> id200([Call data for all friends]) -- none found --> id300([Show no friends found message]) --> id400([Go to menu])\n",
    "    id200 -- 1-n found --> id500([Show list of all friends sorted by name]) --> id400"
   ]
  },
  {
   "cell_type": "code",
   "execution_count": null,
   "metadata": {
    "dotnet_interactive": {
     "language": "mermaid"
    },
    "polyglot_notebook": {
     "kernelName": "mermaid"
    }
   },
   "outputs": [],
   "source": [
    "---\n",
    "title: Search for friends\n",
    "---\n",
    "flowchart TD\n",
    "    id100([Show heading]) --> id200([Prompt for friend search text, or esc to return to menu]) --> id300([Get input string]) -- is not esc --> id310([Trim leading and trailing whitespace from input string]) --> id400([Validate input string])\n",
    "    id300 -- is esc --> id500([Go to menu])\n",
    "    id400 -- is valid --> id600([Call data to perform search]) -- none found --> id700([Show no friends found message]) --> id500\n",
    "    id400 -- is invalid --> id800([Show validation error]) --> id200\n",
    "    id600 -- 1-n found --> id900([Show list of search results sorted by name]) --> id500\n"
   ]
  },
  {
   "cell_type": "code",
   "execution_count": null,
   "metadata": {
    "dotnet_interactive": {
     "language": "mermaid"
    },
    "polyglot_notebook": {
     "kernelName": "mermaid"
    }
   },
   "outputs": [],
   "source": [
    "---\n",
    "title: Exit\n",
    "---\n",
    "flowchart TD\n",
    "    id100([Prompt for are you sure]) --> id110([Get input char]) --> id120([Validate input char]) -- is valid and yes --> id200([Show saving data message]) --> id300([Call data to save data]) -- success --> id400([Show data saved confirmation]) --> id900([Show app closing message]) --> id1000([App end])\n",
    "    id120 -- is valid and no --> id140([Go to menu])\n",
    "    id120 -- is invalid --> id600([Show validation error]) --> id100\n",
    "    id300 -- failure --> id700([Show data save error]) --> id800([Show all friends]) --> id900\n"
   ]
  }
 ],
 "metadata": {
  "kernelspec": {
   "display_name": ".NET (C#)",
   "language": "C#",
   "name": ".net-csharp"
  },
  "polyglot_notebook": {
   "kernelInfo": {
    "defaultKernelName": "csharp",
    "items": [
     {
      "aliases": [],
      "name": "csharp"
     }
    ]
   }
  }
 },
 "nbformat": 4,
 "nbformat_minor": 2
}
