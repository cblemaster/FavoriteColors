{
 "cells": [
  {
   "cell_type": "code",
   "execution_count": null,
   "metadata": {
    "dotnet_interactive": {
     "language": "mermaid"
    },
    "polyglot_notebook": {
     "kernelName": "mermaid"
    }
   },
   "outputs": [
    {
     "data": {
      "text/html": [
       "<div class=\"mermaidMarkdownContainer\" style=\"background-color:white\">\r\n",
       "<link rel=\"stylesheet\" href=\"https://cdnjs.cloudflare.com/ajax/libs/font-awesome/6.2.0/css/all.min.css\">\r\n",
       "<div id=\"fa11e082d93f45759747218985bc6ef2\"></div>\r\n",
       "<script type=\"module\">\r\n",
       "\r\n",
       "            import mermaid from 'https://cdn.jsdelivr.net/npm/mermaid@10.6.1/dist/mermaid.esm.min.mjs';\r\n",
       "            let renderTarget = document.getElementById('fa11e082d93f45759747218985bc6ef2');\r\n",
       "            try {\r\n",
       "                const {svg, bindFunctions} = await mermaid.mermaidAPI.render( \r\n",
       "                    'mermaid_fa11e082d93f45759747218985bc6ef2', \r\n",
       "                    `---\n",
       "title: Data process - Search for friend\n",
       "---\n",
       "flowchart TD\n",
       "    id100([UI makes api call, passing in name to search for]) --> id200([Validate passed in name]) -- invalid --> id300([Return error])\n",
       "    id200 -- valid --> id400([Wildcard search for friends with matching names]) --> id500([Return collection of 0-n friends matching search, sorted a-z])`);\r\n",
       "                renderTarget.innerHTML = svg;\r\n",
       "                bindFunctions?.(renderTarget);\r\n",
       "            }\r\n",
       "            catch (error) {\r\n",
       "                console.log(error);\r\n",
       "            }\r\n",
       "</script>\r\n",
       "</div>\r\n"
      ]
     },
     "metadata": {},
     "output_type": "display_data"
    }
   ],
   "source": [
    "---\n",
    "title: Data process - Search for friend\n",
    "---\n",
    "flowchart TD\n",
    "    id100([UI makes api call, passing in name to search for]) --> id200([Validate passed in name]) -- invalid --> id300([Return error])\n",
    "    id200 -- valid --> id400([Wildcard search for friends with matching names]) --> id500([Return collection of 0-n friends matching search, sorted a-z])"
   ]
  },
  {
   "cell_type": "code",
   "execution_count": null,
   "metadata": {
    "dotnet_interactive": {
     "language": "mermaid"
    },
    "polyglot_notebook": {
     "kernelName": "mermaid"
    }
   },
   "outputs": [
    {
     "data": {
      "text/html": [
       "<div class=\"mermaidMarkdownContainer\" style=\"background-color:white\">\r\n",
       "<link rel=\"stylesheet\" href=\"https://cdnjs.cloudflare.com/ajax/libs/font-awesome/6.2.0/css/all.min.css\">\r\n",
       "<div id=\"7f2790b4fcde438eb9fc3d7d8474c69d\"></div>\r\n",
       "<script type=\"module\">\r\n",
       "\r\n",
       "            import mermaid from 'https://cdn.jsdelivr.net/npm/mermaid@10.6.1/dist/mermaid.esm.min.mjs';\r\n",
       "            let renderTarget = document.getElementById('7f2790b4fcde438eb9fc3d7d8474c69d');\r\n",
       "            try {\r\n",
       "                const {svg, bindFunctions} = await mermaid.mermaidAPI.render( \r\n",
       "                    'mermaid_7f2790b4fcde438eb9fc3d7d8474c69d', \r\n",
       "                    `---\n",
       "title: Data process - Show all friends\n",
       "---\n",
       "flowchart TD\n",
       "    id100([UI makes api call]) --> id200([Get all friends from database, sorted a-z]) --> id300([Return collection of 0-n friends])`);\r\n",
       "                renderTarget.innerHTML = svg;\r\n",
       "                bindFunctions?.(renderTarget);\r\n",
       "            }\r\n",
       "            catch (error) {\r\n",
       "                console.log(error);\r\n",
       "            }\r\n",
       "</script>\r\n",
       "</div>\r\n"
      ]
     },
     "metadata": {},
     "output_type": "display_data"
    }
   ],
   "source": [
    "---\n",
    "title: Data process - Show all friends\n",
    "---\n",
    "flowchart TD\n",
    "    id100([UI makes api call]) --> id200([Get all friends from database, sorted a-z]) --> id300([Return collection of 0-n friends])"
   ]
  },
  {
   "cell_type": "code",
   "execution_count": null,
   "metadata": {
    "dotnet_interactive": {
     "language": "mermaid"
    },
    "polyglot_notebook": {
     "kernelName": "mermaid"
    }
   },
   "outputs": [
    {
     "data": {
      "text/html": [
       "<div class=\"mermaidMarkdownContainer\" style=\"background-color:white\">\r\n",
       "<link rel=\"stylesheet\" href=\"https://cdnjs.cloudflare.com/ajax/libs/font-awesome/6.2.0/css/all.min.css\">\r\n",
       "<div id=\"1d8440b155ef41f6902d55ea4d39f153\"></div>\r\n",
       "<script type=\"module\">\r\n",
       "\r\n",
       "            import mermaid from 'https://cdn.jsdelivr.net/npm/mermaid@10.6.1/dist/mermaid.esm.min.mjs';\r\n",
       "            let renderTarget = document.getElementById('1d8440b155ef41f6902d55ea4d39f153');\r\n",
       "            try {\r\n",
       "                const {svg, bindFunctions} = await mermaid.mermaidAPI.render( \r\n",
       "                    'mermaid_1d8440b155ef41f6902d55ea4d39f153', \r\n",
       "                    `---\n",
       "title: Data process - Add friend\n",
       "---\n",
       "flowchart TD\n",
       "    id100([UI makes api call, passing in name and fav color of new friend]) --> id200([api creates new friend object from the passed in data]) --> id300([Api get the max id for all friends, increments +1, and assigns this id to the new friend]) --> id400([Api adds the new friend to the 'db']) -- succeeds --> id500([Return added friend])\n",
       "    id400 -- fails --> id600([Return null object])`);\r\n",
       "                renderTarget.innerHTML = svg;\r\n",
       "                bindFunctions?.(renderTarget);\r\n",
       "            }\r\n",
       "            catch (error) {\r\n",
       "                console.log(error);\r\n",
       "            }\r\n",
       "</script>\r\n",
       "</div>\r\n"
      ]
     },
     "metadata": {},
     "output_type": "display_data"
    }
   ],
   "source": [
    "---\n",
    "title: Data process - Add friend\n",
    "---\n",
    "flowchart TD\n",
    "    id100([UI makes api call, passing in name and fav color of new friend]) --> id200([api creates new friend object from the passed in data]) --> id300([Api get the max id for all friends, increments +1, and assigns this id to the new friend]) --> id400([Api adds the new friend to the 'db']) -- succeeds --> id500([Return added friend])\n",
    "    id400 -- fails --> id600([Return null object])"
   ]
  }
 ],
 "metadata": {
  "kernelspec": {
   "display_name": ".NET (C#)",
   "language": "C#",
   "name": ".net-csharp"
  },
  "polyglot_notebook": {
   "kernelInfo": {
    "defaultKernelName": "csharp",
    "items": [
     {
      "aliases": [],
      "name": "csharp"
     }
    ]
   }
  }
 },
 "nbformat": 4,
 "nbformat_minor": 2
}
