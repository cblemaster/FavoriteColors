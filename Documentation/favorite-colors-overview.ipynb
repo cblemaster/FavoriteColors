{
 "cells": [
  {
   "cell_type": "markdown",
   "metadata": {},
   "source": [
    "## FavoriteColors\n",
    "### About\n",
    "+ An app for keeping track of the favorite colors of your friends\n",
    "+ An app created to learn one alternative to relational dbs as the 'database layer'\n",
    "### Learning objectives\n",
    "+ Understand json stored to text file as a data source\n",
    "+ Learn .NET classes involved with this\n",
    "+ Make a CRUD 'api' where the data is json\n",
    "+ Bare minimum UI, console app?\n",
    "### Learning resources\n",
    "+ Mermaid: https://mermaid.js.org/\n",
    "+ Microsoft Learn: https://learn.microsoft.com/en-us/dotnet/standard/serialization/system-text-json/use-dom#use-jsonnode\n",
    "### Built with\n",
    "TBD\n",
    "### Features\n",
    "TBD\n",
    "### Business rules\n",
    "TBD\n",
    "### Misc documentation\n",
    "TBD"
   ]
  }
 ],
 "metadata": {
  "language_info": {
   "name": "python"
  }
 },
 "nbformat": 4,
 "nbformat_minor": 2
}
